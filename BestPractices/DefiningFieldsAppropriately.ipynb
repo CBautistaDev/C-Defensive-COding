{
 "cells": [
  {
   "cell_type": "markdown",
   "metadata": {},
   "source": [
    "## Defining Fields Appropriately\n",
    "\n",
    "- Backing Fields\n",
    "   - A variable in a class\n",
    "   - holds data for each object\n",
    "   \n",
    "Data Encapculation/Information Hiding\n",
    " - Object data is only acccesible to that object\n",
    " - Fields are private \n",
    " - Accessible outside of the class thorught property getters and setters"
   ]
  },
  {
   "cell_type": "markdown",
   "metadata": {},
   "source": [
    "| Do:      | Avoid: |\n",
    "| ----------- | ----------- |\n",
    "| Naming: Define a meaningful name, Use camelCasing      | Naming: Single Character name, abbreviations       |\n",
    "| Keep fields private   | initializing to the fields default value        |\n",
    "| Use properties to provide access to the fields |    |"
   ]
  },
  {
   "cell_type": "markdown",
   "metadata": {},
   "source": [
    "## Nullable Types\n",
    "\n",
    "- Allow definition of a value OR null\n",
    "- Specified with a ? suffix on the type\n",
    "- Distinguishes \"not set\" from the default value\n",
    "\n",
    "```\n",
    "private decimal? cost;\n",
    "private DateTime? availabilityDate;\n",
    "```\n",
    "\n",
    "\n",
    "| Do:      | Avoid: |\n",
    "| ----------- | ----------- |\n",
    "| Use on simple types to distinguish \"not set\" and \"default value\"     | Using them if not necessary      |\n",
    "| Use properties of the type such as HasValue and Value as needed   |        |\n",
    "| if(AvailabilityDate.HasValue){ DateTime aDate = AvailabiltyDate.Value} |    |"
   ]
  },
  {
   "cell_type": "markdown",
   "metadata": {},
   "source": [
    "## Constants\n",
    "\n",
    "- Defined in a class\n",
    "- Holds a hard-coded value that does not change\n",
    "- must be assinged to an expression that can be fully evaluated at compile time\n",
    "    - Think of a constant as a \"compile time\" constant value\n",
    "- Compiled into every location that references it\n",
    "- Are static \n",
    "- Must have a value on declaration\n",
    "```\n",
    "public const double Pi = 3.14;\n",
    "public const int Red = 0xFF000l\n",
    "\n",
    "```\n",
    "\n",
    "\n",
    "| Do:      | Avoid: |\n",
    "| ----------- | ----------- |\n",
    "| Class naming: Define meaningful name,Use PascalCasing     | class naming: single character name, abbreviations, all upper case      |\n",
    "| use for compile time values that will never change  |   For fields that could change over time     |"
   ]
  },
  {
   "cell_type": "markdown",
   "metadata": {},
   "source": [
    "## Read-Only Fields\n",
    "\n",
    "- A variable in a class\n",
    "- Holds a value that is initialized and the not changed\n",
    "- Must be initialized \n",
    "    - in the declaration\n",
    "    - or in construnctor\n",
    "- read-only fields as a \"runtime\" constant value"
   ]
  },
  {
   "cell_type": "markdown",
   "metadata": {},
   "source": [
    "Constant vs Read-only\n",
    "\n",
    "- Contant Fields\n",
    "    - Compile-Time constant\n",
    "    - Assigned to an expression evaluated at compiles time\n",
    "    - Assigned on declaration \n",
    "    - only number,boolean, or string\n",
    "    - always static\n",
    "- Read-only fields\n",
    "    - Runtime constant\n",
    "    - assinged to any valid expression at runtime\n",
    "    - assigned on declaration or constructor \n",
    "    - any data type\n",
    "    - Optionally static"
   ]
  },
  {
   "cell_type": "code",
   "execution_count": null,
   "metadata": {
    "dotnet_interactive": {
     "language": "csharp"
    },
    "vscode": {
     "languageId": "dotnet-interactive.csharp"
    }
   },
   "outputs": [],
   "source": []
  }
 ],
 "metadata": {
  "kernelspec": {
   "display_name": ".NET (C#)",
   "language": "C#",
   "name": ".net-csharp"
  },
  "language_info": {
   "name": "C#"
  }
 },
 "nbformat": 4,
 "nbformat_minor": 2
}
