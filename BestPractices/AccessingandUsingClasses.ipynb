{
 "cells": [
  {
   "cell_type": "code",
   "execution_count": null,
   "metadata": {
    "dotnet_interactive": {
     "language": "csharp"
    },
    "vscode": {
     "languageId": "dotnet-interactive.csharp"
    }
   },
   "outputs": [],
   "source": [
    "// using static in c# 6 can access static class methods without using the full name"
   ]
  },
  {
   "cell_type": "markdown",
   "metadata": {},
   "source": [
    "Object Vs Class\n",
    "\n",
    "Object:\n",
    "- represents one specific thing ex: hammer or saw\n",
    "- defines one thing created from that template\n",
    "- created at runtime with the new keyword\n",
    "\n",
    "Class:\n",
    "- Represents things of the same type ex: product\n",
    "- defines the templates specifying the data and processing associated with all things of that type\n",
    "- created at development time with code"
   ]
  },
  {
   "cell_type": "code",
   "execution_count": null,
   "metadata": {
    "dotnet_interactive": {
     "language": "csharp"
    },
    "vscode": {
     "languageId": "dotnet-interactive.csharp"
    }
   },
   "outputs": [],
   "source": [
    "// setting properties \n",
    "// when populating from database values \n",
    "//when modifyng properties\n",
    "\n",
    "var currentProduct = new Product();\n",
    "currentProduct.ProductName = \"Saw\";\n",
    "currentProduct.ProductId = 1;\n",
    "currentProduct.Description; \"15 inch steel baled hand saw\";\n",
    "\n",
    "// Parameterized constructor\n",
    "//when setting the basic set of properties\n",
    "var current = new Product(1, \"saw\", \"15 inch steel blade\"); \n",
    "\n",
    "//Object initializers\n",
    "//when readability is important\n",
    "// when initizaling a subset or superset of properties\n",
    "\n",
    "var currentProduct = new Product{\n",
    " ProductId =1,\n",
    " ProducntName = \"Saw\",\n",
    " Description= \"15 inch steel blade hand saw\"\n",
    "\n",
    "\n",
    "}"
   ]
  },
  {
   "cell_type": "markdown",
   "metadata": {},
   "source": [
    "Instantiating related object\n"
   ]
  },
  {
   "cell_type": "code",
   "execution_count": null,
   "metadata": {
    "dotnet_interactive": {
     "language": "csharp"
    },
    "vscode": {
     "languageId": "dotnet-interactive.csharp"
    }
   },
   "outputs": [],
   "source": [
    "//null checking classic\n",
    "\n",
    "if(currentProduct != null && currentProduct.ProducntVendor != null){\n",
    "    var companyName = currentProduct.ProductVencor.CompanyName;\n",
    "}\n",
    "\n",
    "//null checking: null conditional operators C# 6\n",
    "\n",
    "var companyName = currentProduct?.ProductVendor?.CompanyName;\n",
    "\n",
    "//* ?. is th enull conditional operator - called the elvis operator"
   ]
  },
  {
   "cell_type": "code",
   "execution_count": null,
   "metadata": {
    "dotnet_interactive": {
     "language": "csharp"
    },
    "vscode": {
     "languageId": "dotnet-interactive.csharp"
    }
   },
   "outputs": [],
   "source": []
  }
 ],
 "metadata": {
  "kernelspec": {
   "display_name": ".NET (C#)",
   "language": "C#",
   "name": ".net-csharp"
  },
  "language_info": {
   "name": "C#"
  }
 },
 "nbformat": 4,
 "nbformat_minor": 2
}
