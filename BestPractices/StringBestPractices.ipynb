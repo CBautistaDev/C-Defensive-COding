{
 "cells": [
  {
   "cell_type": "markdown",
   "metadata": {},
   "source": [
    "> A string is a reference type\n",
    ">\n",
    ">Value type\n",
    "> - store their data directly \n",
    "> - examples: int, decimal, bool, enum\n",
    ">\n",
    "> Reference Type\n",
    "> - stores references to their data\n",
    "> - examples: string , object\n",
    ">\n",
    "> A string is a reference type that acts like a value type"
   ]
  },
  {
   "cell_type": "code",
   "execution_count": null,
   "metadata": {
    "dotnet_interactive": {
     "language": "csharp"
    },
    "vscode": {
     "languageId": "dotnet-interactive.csharp"
    }
   },
   "outputs": [],
   "source": [
    "//.net string methods\n",
    "\n",
    "var vendorInfo = \"vendor: ABC Corp\";\n",
    "\n"
   ]
  },
  {
   "cell_type": "code",
   "execution_count": null,
   "metadata": {
    "dotnet_interactive": {
     "language": "csharp"
    },
    "vscode": {
     "languageId": "dotnet-interactive.csharp"
    }
   },
   "outputs": [],
   "source": [
    "// Handling nulls\n",
    "\n",
    "string vendorInfo = null;\n",
    "\n",
    "string result;\n",
    "\n",
    "\n",
    "if(!String.IsNullOrWhiteSpace(vendorInfo)){\n",
    "    result = vendorInfo.ToLower();\n",
    "}\n",
    "\n",
    "// C# 6 \n",
    "result = vendorInfo?.ToLower();"
   ]
  },
  {
   "cell_type": "markdown",
   "metadata": {},
   "source": [
    "> Verbatim String literal best practices\n",
    "> \n",
    "> - Do \n",
    ">   - use verbatim string literals when the string contains special characters such as backslashes\n",
    ">\n",
    ">   - use verbatim string literals to hold folder or file names @\"c:\\mydir\\myfile.txt\"\n",
    ">\n",
    ">   - use two quotes to include quotes in verbatim string literal\n",
    ">   - @\"say it with a long \"\"a\"\" sound\";"
   ]
  },
  {
   "cell_type": "code",
   "execution_count": null,
   "metadata": {
    "dotnet_interactive": {
     "language": "csharp"
    },
    "vscode": {
     "languageId": "dotnet-interactive.csharp"
    }
   },
   "outputs": [],
   "source": [
    "// formatting strings\n",
    "\n",
    "\n",
    "//building long strings\n",
    "\n",
    "var oderText = \"Order from ACME, INC\" + Environment.NewLine + \"Product:\" + Environment.NewLine + \"Quantity:\";\n"
   ]
  },
  {
   "cell_type": "markdown",
   "metadata": {},
   "source": [
    "> StringBuilder\n",
    ">\n",
    "> - Conceptually a mutable string\n",
    "> - Allows string operations such as concatentation without creating a new string\n",
    "> - provides methods for manipulating the mutable string : \n",
    ">     - append, Insert, Replace\n",
    "> - Use ToString to cnvert to a string\n",
    "> - More efficient when working with string that are :\n",
    ">     - ex: Built up with many seperate concatenation operations\n",
    ">     - ex: Change a large number of times such as within a loop"
   ]
  },
  {
   "cell_type": "code",
   "execution_count": null,
   "metadata": {
    "dotnet_interactive": {
     "language": "csharp"
    },
    "vscode": {
     "languageId": "dotnet-interactive.csharp"
    }
   },
   "outputs": [],
   "source": [
    "//string builder example\n",
    "//\n",
    "var orderTextBuilder = new StringBuilder();"
   ]
  },
  {
   "cell_type": "markdown",
   "metadata": {},
   "source": [
    "Long String Best Practices\n",
    "\n",
    "| Do          | Avoid       |\n",
    "| ----------- | ----------- |\n",
    "| Use string builder when building up a string with numerous concatentation opertaions  | Using StringBuilder when only modifying a string a few times       |\n",
    "| Use StringBuilder when modifying a string numerous times such as in loop   | Text        |\n",
    "| Consider readability |  |"
   ]
  },
  {
   "cell_type": "markdown",
   "metadata": {},
   "source": [
    "> Frequently asked questions\n",
    ">\n",
    "> - What does it mean to say that C# are immutable?\n",
    ">    - It means that string cannot be modifed once they are created\n",
    "> - Is a String value type or a reference type?\n",
    ">    - a string is a reference type \n",
    ">    - that acts like a value type\n",
    "> - What is the best way to check for null string?\n",
    ">    - It depends\n",
    ">    - Using String.IsNUllOrWhiteSpace is great when checking nulls for a code block\n",
    ">    - using the new c# 6 null-conditinal operator is great for code statements\n",
    "> - What are the benefits to using StringBuildre?  "
   ]
  },
  {
   "cell_type": "markdown",
   "metadata": {},
   "source": []
  }
 ],
 "metadata": {
  "kernelspec": {
   "display_name": ".NET (C#)",
   "language": "C#",
   "name": ".net-csharp"
  },
  "language_info": {
   "name": "C#"
  }
 },
 "nbformat": 4,
 "nbformat_minor": 2
}
