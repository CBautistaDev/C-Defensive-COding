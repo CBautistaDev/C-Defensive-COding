{
 "cells": [
  {
   "cell_type": "markdown",
   "metadata": {},
   "source": [
    "Exception Management Strategy\n",
    "\n",
    "- Should our methods throw exceptions \n",
    "- What about system and applicaiton exceptions\n",
    "- how should the user be notified \n",
    "- how and when do we log exceptions\n",
    "\n",
    "Providing Multiple Results froma Method\n",
    "- Throwing exceptions \n",
    "- ref or out parameters\n",
    "- a tuple\n",
    "- an object"
   ]
  },
  {
   "cell_type": "code",
   "execution_count": null,
   "metadata": {
    "dotnet_interactive": {
     "language": "csharp"
    },
    "vscode": {
     "languageId": "dotnet-interactive.csharp"
    }
   },
   "outputs": [],
   "source": [
    "//Defending out code fromy System Exceptions\n",
    "\n",
    "using System.IO;\n",
    "\n",
    "public static void LogToFile(string textToLog){\n",
    "    string docPath = \"somePath\";\n",
    "\n",
    "    using(StreamWriter w = File.AppendText(Path.Combine(docPath, \"log.txt\"))){\n",
    "\n",
    "        w.WriteLine(\"\");\n",
    "        w.Write(\"Log Entry: \");\n",
    "        w.WriteLine($\"{DateTime.Now.ToLongDateString()}\");\n",
    " \n",
    "\n",
    "    }\n",
    "}"
   ]
  },
  {
   "cell_type": "markdown",
   "metadata": {},
   "source": [
    "## Agument Exception \n",
    "\n",
    "Use if a method argument is invalid based on : \n",
    "- validation requirements\n",
    "- business rules"
   ]
  },
  {
   "cell_type": "code",
   "execution_count": null,
   "metadata": {
    "dotnet_interactive": {
     "language": "csharp"
    },
    "vscode": {
     "languageId": "dotnet-interactive.csharp"
    }
   },
   "outputs": [],
   "source": [
    "public Discount FindDiscount(List<Discount>? discounts, string name){\n",
    "    if(discounts is null) throw new ArgumentException(\"No discounts found\");\n",
    "}"
   ]
  },
  {
   "cell_type": "markdown",
   "metadata": {},
   "source": [
    "## Invalid Operation Exception \n",
    "\n",
    "Use if an operation is not valid based on the application state (other than invalid arguments):\n",
    "\n",
    "- Attempting to write to a file without a valid file name"
   ]
  },
  {
   "cell_type": "code",
   "execution_count": null,
   "metadata": {
    "dotnet_interactive": {
     "language": "csharp"
    },
    "vscode": {
     "languageId": "dotnet-interactive.csharp"
    }
   },
   "outputs": [],
   "source": [
    "string docPath = Environment.GetFolderPath(Environment.SpecialFolder.MyDocuments);\n",
    "\n",
    "if(string.IsNullOrEmpty(docPath)) throw new InvalidOperationException(\"Path cannot be null\");"
   ]
  },
  {
   "cell_type": "markdown",
   "metadata": {},
   "source": [
    "Do not throw\n",
    "General exceptions like\n",
    "- Exception or SystemException\n",
    "- NullReferenceException or IndexOutOfRangeException"
   ]
  },
  {
   "cell_type": "code",
   "execution_count": null,
   "metadata": {
    "dotnet_interactive": {
     "language": "csharp"
    },
    "vscode": {
     "languageId": "dotnet-interactive.csharp"
    }
   },
   "outputs": [],
   "source": []
  },
  {
   "cell_type": "markdown",
   "metadata": {},
   "source": []
  }
 ],
 "metadata": {
  "kernelspec": {
   "display_name": ".NET (C#)",
   "language": "C#",
   "name": ".net-csharp"
  },
  "language_info": {
   "file_extension": ".cs",
   "mimetype": "text/x-csharp",
   "name": "C#",
   "pygments_lexer": "csharp",
   "version": "9.0"
  },
  "vscode": {
   "interpreter": {
    "hash": "788c05ff62f66d58ddc47a7ff361a5939443171463bac1e2bae06fa50d1462ee"
   }
  }
 },
 "nbformat": 4,
 "nbformat_minor": 2
}
