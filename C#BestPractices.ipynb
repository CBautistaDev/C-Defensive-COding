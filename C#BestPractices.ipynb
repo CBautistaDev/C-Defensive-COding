{
 "cells": [
  {
   "cell_type": "markdown",
   "metadata": {},
   "source": [
    "Defining Proper Classes\n",
    "\n",
    "\n",
    "What is a class?\n",
    "\n",
    "- a template or mold\n",
    "- specifies the traits or data\n",
    "- specifies the behavior or operations"
   ]
  },
  {
   "cell_type": "code",
   "execution_count": null,
   "metadata": {
    "dotnet_interactive": {
     "language": "csharp"
    },
    "vscode": {
     "languageId": "dotnet-interactive.csharp"
    }
   },
   "outputs": [],
   "source": [
    "//Building good classess\n",
    "\n",
    "///<summary>\n",
    "///Managed products carried in inventory\n",
    "/// </summary>\n",
    "\n",
    "public class Product{\n",
    "\n",
    "    private int productId;\n",
    "    private string productName;\n",
    "\n",
    "    public int ProductId{\n",
    "        get{return productId;}\n",
    "        set {productId = value;}\n",
    "\n",
    "    }\n",
    "\n",
    "    public string ProductName{\n",
    "        get { return productName; }\n",
    "        set { productName = value;}\n",
    "    }\n",
    "\n",
    "  public string SayHello(){\n",
    "    return \"Hello\";\n",
    "  }\n",
    "\n",
    "}"
   ]
  },
  {
   "cell_type": "markdown",
   "metadata": {},
   "source": [
    "Namespace best practices:\n",
    "\n",
    "Do:\n",
    "- follow : \n",
    "\n",
    "    \"\\<company>.\\<technology>.\\<feature>\"\n",
    "- Use Pascalcasing\n",
    "\n",
    "Avoid:\n",
    "- using system\n",
    "- using a class name\n",
    "    "
   ]
  },
  {
   "cell_type": "markdown",
   "metadata": {},
   "source": [
    "Building a static class\n",
    "\n",
    "- static keyword in the signature\n",
    "- only static members\n",
    "- can not instantiate a static class"
   ]
  },
  {
   "cell_type": "markdown",
   "metadata": {},
   "source": [
    "Defining a singleton\n",
    "\n",
    "- provides only one instance\n",
    "- private constructors\n",
    "- static property provides the one instance \n",
    "\n",
    "Advantages of a singleton vs static class \n",
    "\n",
    "- a singleton has an instance \n",
    "> can be passwed to other code as needed\n",
    "- a singleton can have child objects\n",
    "> example: user instance has a set of roles assosicated with it \n",
    "- a singleton supports OOP features\n",
    "> it can implement an insterface\n",
    "> it can be inherited from"
   ]
  },
  {
   "cell_type": "code",
   "execution_count": null,
   "metadata": {
    "dotnet_interactive": {
     "language": "csharp"
    },
    "vscode": {
     "languageId": "dotnet-interactive.csharp"
    }
   },
   "outputs": [],
   "source": [
    "public class User {\n",
    "    private static User instance;\n",
    "     private User(){}\n",
    "\n",
    "     public static User Instance{\n",
    "        get{\n",
    "            \n",
    "            if(instance == null){\n",
    "                instance = new User();\n",
    "            }\n",
    "            return instance;\n",
    "        }\n",
    "\n",
    "     }\n",
    "}"
   ]
  },
  {
   "cell_type": "markdown",
   "metadata": {},
   "source": [
    "Asked questions?\n",
    "\n",
    "- what is the difference between a property and a method\n",
    "\n",
    "properties are the gate keepers providng access to the data\n",
    "\n",
    "methods are the operations\n",
    "\n",
    "- what is a constructor?\n",
    "\n",
    "a method executed when an instance is created from a class\n",
    "\n",
    "- what is the purpose of a namespace?\n",
    "\n",
    "organize classes into a logical hierachy\n",
    "\n",
    "prevent class name collisions\n",
    "\n",
    "- what is a static class?\n",
    "\n",
    "a class that cannot be instantiated \n",
    "\n",
    "it is best for user with common code libraries \n",
    "\n",
    "- what is a singleton?\n",
    "\n",
    "a class that provides a single instance of iteself\n",
    "\n",
    "- what is the difference between a static class and a slingelton?\n",
    "\n",
    "a static class cannot be instantiated\n",
    "\n",
    "a singleton can instatiate itself and provied that instance"
   ]
  },
  {
   "cell_type": "code",
   "execution_count": null,
   "metadata": {
    "dotnet_interactive": {
     "language": "csharp"
    },
    "vscode": {
     "languageId": "dotnet-interactive.csharp"
    }
   },
   "outputs": [],
   "source": []
  }
 ],
 "metadata": {
  "kernelspec": {
   "display_name": ".NET (C#)",
   "language": "C#",
   "name": ".net-csharp"
  },
  "language_info": {
   "name": "C#"
  }
 },
 "nbformat": 4,
 "nbformat_minor": 2
}
