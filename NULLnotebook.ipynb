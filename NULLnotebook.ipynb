{
 "cells": [
  {
   "cell_type": "code",
   "execution_count": null,
   "metadata": {
    "dotnet_interactive": {
     "language": "csharp"
    },
    "vscode": {
     "languageId": "dotnet-interactive.csharp"
    }
   },
   "outputs": [],
   "source": [
    "//reference type nullability\n",
    "//value types\n",
    "bool IsInStock;\n",
    "int Count;\n",
    "decimal Price;\n",
    "DateTime EffectiveDate;\n",
    "\n",
    "//non-nullable reference tupes\n",
    "string Reason = \"\";\n",
    "Discount PriceCount = new();\n",
    "List(Discount) Discounts = new List<Discount>();"
   ]
  },
  {
   "cell_type": "code",
   "execution_count": null,
   "metadata": {
    "dotnet_interactive": {
     "language": "csharp"
    },
    "vscode": {
     "languageId": "dotnet-interactive.csharp"
    }
   },
   "outputs": [],
   "source": [
    "//Nullable value types\n",
    "bool? IsInstock;\n",
    "int? Count;\n",
    "decimal? Price;\n",
    "DateTime? EffectivePrice;\n",
    "\n",
    "//Nullable reference types\n",
    "string? Reason;\n",
    "Discount? PriceCount;\n",
    "List<Discount>? Discounts;"
   ]
  },
  {
   "cell_type": "code",
   "execution_count": null,
   "metadata": {
    "dotnet_interactive": {
     "language": "csharp"
    },
    "vscode": {
     "languageId": "dotnet-interactive.csharp"
    }
   },
   "outputs": [
    {
     "ename": "Error",
     "evalue": "(5,24): error CS1002: ; expected\r\n(11,22): error CS1002: ; expected\r\n(12,31): error CS1002: ; expected",
     "output_type": "error",
     "traceback": [
      "(5,24): error CS1002: ; expected\r\n",
      "(11,22): error CS1002: ; expected\r\n",
      "(12,31): error CS1002: ; expected"
     ]
    }
   ],
   "source": [
    " //value types\n",
    " bool IsInstock; //false\n",
    " int Count; //0\n",
    " decimal Price; //0\n",
    " DateTime EffectiveDate //1/1/0001\n",
    "\n",
    "\n",
    " //nullable value types\n",
    " bool? IsInStock; //null\n",
    " int? Count; //null\n",
    " decimal? Price; null\n",
    " DateTime EffectiveDate; //null"
   ]
  },
  {
   "cell_type": "code",
   "execution_count": null,
   "metadata": {
    "dotnet_interactive": {
     "language": "csharp"
    },
    "vscode": {
     "languageId": "dotnet-interactive.csharp"
    }
   },
   "outputs": [],
   "source": [
    "// non nullable referece types\n",
    "string Reason = \"\"; //!null\n",
    "Discount PriceDiscount = new(); //!null\n",
    "List<Discount> Discounts = new(); //!null\n",
    "\n",
    "// nullable reference types\n",
    "string? Reason; //null\n",
    "Discount? PriceDiscount; //null\n",
    "List<Discount>? Discounts; //null"
   ]
  }
 ],
 "metadata": {
  "kernelspec": {
   "display_name": ".NET (C#)",
   "language": "C#",
   "name": ".net-csharp"
  },
  "language_info": {
   "name": "C#"
  }
 },
 "nbformat": 4,
 "nbformat_minor": 2
}
